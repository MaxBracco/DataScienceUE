{
 "cells": [
  {
   "cell_type": "code",
   "execution_count": 18,
   "id": "b703dd8f",
   "metadata": {},
   "outputs": [],
   "source": [
    "from pandas import read_csv"
   ]
  },
  {
   "cell_type": "code",
   "execution_count": 19,
   "id": "aef8ea88",
   "metadata": {},
   "outputs": [],
   "source": [
    "data = read_csv(\"../data/bikesharing.csv\")"
   ]
  },
  {
   "cell_type": "code",
   "execution_count": 20,
   "id": "8a6164a0",
   "metadata": {},
   "outputs": [
    {
     "data": {
      "text/plain": [
       "pandas.core.frame.DataFrame"
      ]
     },
     "execution_count": 20,
     "metadata": {},
     "output_type": "execute_result"
    }
   ],
   "source": [
    "type(data)"
   ]
  },
  {
   "cell_type": "code",
   "execution_count": 21,
   "id": "54b65ea4",
   "metadata": {},
   "outputs": [
    {
     "name": "stdout",
     "output_type": "stream",
     "text": [
      "Requirement already satisfied: pandas==2.2.3 in /workspaces/DataScienceUE/.venv/lib/python3.12/site-packages (from -r ../requirements.txt (line 1)) (2.2.3)\n",
      "Requirement already satisfied: scikit-learn==1.6.1 in /workspaces/DataScienceUE/.venv/lib/python3.12/site-packages (from -r ../requirements.txt (line 2)) (1.6.1)\n",
      "Requirement already satisfied: scipy==1.15.3 in /workspaces/DataScienceUE/.venv/lib/python3.12/site-packages (from -r ../requirements.txt (line 3)) (1.15.3)\n",
      "Requirement already satisfied: matplotlib==3.10.3 in /workspaces/DataScienceUE/.venv/lib/python3.12/site-packages (from -r ../requirements.txt (line 4)) (3.10.3)\n",
      "Requirement already satisfied: seaborn==0.13.2 in /workspaces/DataScienceUE/.venv/lib/python3.12/site-packages (from -r ../requirements.txt (line 5)) (0.13.2)\n",
      "Requirement already satisfied: numpy>=1.26.0 in /workspaces/DataScienceUE/.venv/lib/python3.12/site-packages (from pandas==2.2.3->-r ../requirements.txt (line 1)) (2.2.6)\n",
      "Requirement already satisfied: python-dateutil>=2.8.2 in /workspaces/DataScienceUE/.venv/lib/python3.12/site-packages (from pandas==2.2.3->-r ../requirements.txt (line 1)) (2.9.0.post0)\n",
      "Requirement already satisfied: pytz>=2020.1 in /workspaces/DataScienceUE/.venv/lib/python3.12/site-packages (from pandas==2.2.3->-r ../requirements.txt (line 1)) (2025.2)\n",
      "Requirement already satisfied: tzdata>=2022.7 in /workspaces/DataScienceUE/.venv/lib/python3.12/site-packages (from pandas==2.2.3->-r ../requirements.txt (line 1)) (2025.2)\n",
      "Requirement already satisfied: joblib>=1.2.0 in /workspaces/DataScienceUE/.venv/lib/python3.12/site-packages (from scikit-learn==1.6.1->-r ../requirements.txt (line 2)) (1.5.1)\n",
      "Requirement already satisfied: threadpoolctl>=3.1.0 in /workspaces/DataScienceUE/.venv/lib/python3.12/site-packages (from scikit-learn==1.6.1->-r ../requirements.txt (line 2)) (3.6.0)\n",
      "Requirement already satisfied: contourpy>=1.0.1 in /workspaces/DataScienceUE/.venv/lib/python3.12/site-packages (from matplotlib==3.10.3->-r ../requirements.txt (line 4)) (1.3.2)\n",
      "Requirement already satisfied: cycler>=0.10 in /workspaces/DataScienceUE/.venv/lib/python3.12/site-packages (from matplotlib==3.10.3->-r ../requirements.txt (line 4)) (0.12.1)\n",
      "Requirement already satisfied: fonttools>=4.22.0 in /workspaces/DataScienceUE/.venv/lib/python3.12/site-packages (from matplotlib==3.10.3->-r ../requirements.txt (line 4)) (4.58.1)\n",
      "Requirement already satisfied: kiwisolver>=1.3.1 in /workspaces/DataScienceUE/.venv/lib/python3.12/site-packages (from matplotlib==3.10.3->-r ../requirements.txt (line 4)) (1.4.8)\n",
      "Requirement already satisfied: packaging>=20.0 in /workspaces/DataScienceUE/.venv/lib/python3.12/site-packages (from matplotlib==3.10.3->-r ../requirements.txt (line 4)) (25.0)\n",
      "Requirement already satisfied: pillow>=8 in /workspaces/DataScienceUE/.venv/lib/python3.12/site-packages (from matplotlib==3.10.3->-r ../requirements.txt (line 4)) (11.2.1)\n",
      "Requirement already satisfied: pyparsing>=2.3.1 in /workspaces/DataScienceUE/.venv/lib/python3.12/site-packages (from matplotlib==3.10.3->-r ../requirements.txt (line 4)) (3.2.3)\n",
      "Requirement already satisfied: six>=1.5 in /workspaces/DataScienceUE/.venv/lib/python3.12/site-packages (from python-dateutil>=2.8.2->pandas==2.2.3->-r ../requirements.txt (line 1)) (1.17.0)\n"
     ]
    }
   ],
   "source": [
    "!pip install -r ../requirements.txt"
   ]
  },
  {
   "cell_type": "markdown",
   "id": "c95f49ba",
   "metadata": {},
   "source": [
    "## Daten in Pandas laden"
   ]
  },
  {
   "cell_type": "code",
   "execution_count": 22,
   "id": "b0196d0d",
   "metadata": {},
   "outputs": [],
   "source": [
    "from pandas import read_csv"
   ]
  },
  {
   "cell_type": "code",
   "execution_count": 23,
   "id": "d6586d95",
   "metadata": {},
   "outputs": [
    {
     "data": {
      "text/html": [
       "<div>\n",
       "<style scoped>\n",
       "    .dataframe tbody tr th:only-of-type {\n",
       "        vertical-align: middle;\n",
       "    }\n",
       "\n",
       "    .dataframe tbody tr th {\n",
       "        vertical-align: top;\n",
       "    }\n",
       "\n",
       "    .dataframe thead th {\n",
       "        text-align: right;\n",
       "    }\n",
       "</style>\n",
       "<table border=\"1\" class=\"dataframe\">\n",
       "  <thead>\n",
       "    <tr style=\"text-align: right;\">\n",
       "      <th></th>\n",
       "      <th>Unnamed: 0</th>\n",
       "      <th>profile_pic</th>\n",
       "      <th>rel_num_numeric_char_username</th>\n",
       "      <th>words_fullname</th>\n",
       "      <th>rel_num_numeric_char_fullname</th>\n",
       "      <th>name=username</th>\n",
       "      <th>description_length</th>\n",
       "      <th>has_external_url</th>\n",
       "      <th>is_private</th>\n",
       "      <th>num_posts</th>\n",
       "      <th>num_followers</th>\n",
       "      <th>num_follows</th>\n",
       "      <th>is_fake</th>\n",
       "    </tr>\n",
       "  </thead>\n",
       "  <tbody>\n",
       "    <tr>\n",
       "      <th>0</th>\n",
       "      <td>0</td>\n",
       "      <td>yes</td>\n",
       "      <td>0.27</td>\n",
       "      <td>0</td>\n",
       "      <td>0.00</td>\n",
       "      <td>no</td>\n",
       "      <td>53</td>\n",
       "      <td>no</td>\n",
       "      <td>no</td>\n",
       "      <td>32</td>\n",
       "      <td>1000.0</td>\n",
       "      <td>955</td>\n",
       "      <td>no</td>\n",
       "    </tr>\n",
       "    <tr>\n",
       "      <th>1</th>\n",
       "      <td>1</td>\n",
       "      <td>yes</td>\n",
       "      <td>0.00</td>\n",
       "      <td>2</td>\n",
       "      <td>0.00</td>\n",
       "      <td>no</td>\n",
       "      <td>44</td>\n",
       "      <td>no</td>\n",
       "      <td>no</td>\n",
       "      <td>286</td>\n",
       "      <td>2740.0</td>\n",
       "      <td>533</td>\n",
       "      <td>no</td>\n",
       "    </tr>\n",
       "    <tr>\n",
       "      <th>2</th>\n",
       "      <td>2</td>\n",
       "      <td>yes</td>\n",
       "      <td>0.10</td>\n",
       "      <td>2</td>\n",
       "      <td>0.00</td>\n",
       "      <td>no</td>\n",
       "      <td>0</td>\n",
       "      <td>no</td>\n",
       "      <td>yes</td>\n",
       "      <td>13</td>\n",
       "      <td>159.0</td>\n",
       "      <td>98</td>\n",
       "      <td>no</td>\n",
       "    </tr>\n",
       "    <tr>\n",
       "      <th>3</th>\n",
       "      <td>3</td>\n",
       "      <td>yes</td>\n",
       "      <td>0.00</td>\n",
       "      <td>1</td>\n",
       "      <td>0.00</td>\n",
       "      <td>no</td>\n",
       "      <td>82</td>\n",
       "      <td>no</td>\n",
       "      <td>no</td>\n",
       "      <td>679</td>\n",
       "      <td>414.0</td>\n",
       "      <td>651</td>\n",
       "      <td>no</td>\n",
       "    </tr>\n",
       "    <tr>\n",
       "      <th>4</th>\n",
       "      <td>4</td>\n",
       "      <td>yes</td>\n",
       "      <td>0.00</td>\n",
       "      <td>2</td>\n",
       "      <td>0.00</td>\n",
       "      <td>no</td>\n",
       "      <td>0</td>\n",
       "      <td>no</td>\n",
       "      <td>yes</td>\n",
       "      <td>6</td>\n",
       "      <td>151.0</td>\n",
       "      <td>126</td>\n",
       "      <td>no</td>\n",
       "    </tr>\n",
       "    <tr>\n",
       "      <th>...</th>\n",
       "      <td>...</td>\n",
       "      <td>...</td>\n",
       "      <td>...</td>\n",
       "      <td>...</td>\n",
       "      <td>...</td>\n",
       "      <td>...</td>\n",
       "      <td>...</td>\n",
       "      <td>...</td>\n",
       "      <td>...</td>\n",
       "      <td>...</td>\n",
       "      <td>...</td>\n",
       "      <td>...</td>\n",
       "      <td>...</td>\n",
       "    </tr>\n",
       "    <tr>\n",
       "      <th>571</th>\n",
       "      <td>571</td>\n",
       "      <td>yes</td>\n",
       "      <td>0.55</td>\n",
       "      <td>1</td>\n",
       "      <td>0.44</td>\n",
       "      <td>no</td>\n",
       "      <td>0</td>\n",
       "      <td>no</td>\n",
       "      <td>no</td>\n",
       "      <td>33</td>\n",
       "      <td>NaN</td>\n",
       "      <td>596</td>\n",
       "      <td>yes</td>\n",
       "    </tr>\n",
       "    <tr>\n",
       "      <th>572</th>\n",
       "      <td>572</td>\n",
       "      <td>yes</td>\n",
       "      <td>0.38</td>\n",
       "      <td>1</td>\n",
       "      <td>0.33</td>\n",
       "      <td>no</td>\n",
       "      <td>21</td>\n",
       "      <td>no</td>\n",
       "      <td>no</td>\n",
       "      <td>44</td>\n",
       "      <td>66.0</td>\n",
       "      <td>75</td>\n",
       "      <td>yes</td>\n",
       "    </tr>\n",
       "    <tr>\n",
       "      <th>573</th>\n",
       "      <td>573</td>\n",
       "      <td>yes</td>\n",
       "      <td>0.57</td>\n",
       "      <td>2</td>\n",
       "      <td>0.00</td>\n",
       "      <td>no</td>\n",
       "      <td>0</td>\n",
       "      <td>no</td>\n",
       "      <td>no</td>\n",
       "      <td>4</td>\n",
       "      <td>96.0</td>\n",
       "      <td>339</td>\n",
       "      <td>yes</td>\n",
       "    </tr>\n",
       "    <tr>\n",
       "      <th>574</th>\n",
       "      <td>574</td>\n",
       "      <td>yes</td>\n",
       "      <td>0.57</td>\n",
       "      <td>1</td>\n",
       "      <td>0.00</td>\n",
       "      <td>no</td>\n",
       "      <td>11</td>\n",
       "      <td>no</td>\n",
       "      <td>no</td>\n",
       "      <td>0</td>\n",
       "      <td>57.0</td>\n",
       "      <td>73</td>\n",
       "      <td>yes</td>\n",
       "    </tr>\n",
       "    <tr>\n",
       "      <th>575</th>\n",
       "      <td>575</td>\n",
       "      <td>yes</td>\n",
       "      <td>0.27</td>\n",
       "      <td>1</td>\n",
       "      <td>0.00</td>\n",
       "      <td>no</td>\n",
       "      <td>0</td>\n",
       "      <td>no</td>\n",
       "      <td>no</td>\n",
       "      <td>2</td>\n",
       "      <td>150.0</td>\n",
       "      <td>487</td>\n",
       "      <td>yes</td>\n",
       "    </tr>\n",
       "  </tbody>\n",
       "</table>\n",
       "<p>576 rows × 13 columns</p>\n",
       "</div>"
      ],
      "text/plain": [
       "     Unnamed: 0 profile_pic  rel_num_numeric_char_username  words_fullname  \\\n",
       "0             0         yes                           0.27               0   \n",
       "1             1         yes                           0.00               2   \n",
       "2             2         yes                           0.10               2   \n",
       "3             3         yes                           0.00               1   \n",
       "4             4         yes                           0.00               2   \n",
       "..          ...         ...                            ...             ...   \n",
       "571         571         yes                           0.55               1   \n",
       "572         572         yes                           0.38               1   \n",
       "573         573         yes                           0.57               2   \n",
       "574         574         yes                           0.57               1   \n",
       "575         575         yes                           0.27               1   \n",
       "\n",
       "     rel_num_numeric_char_fullname name=username  description_length  \\\n",
       "0                             0.00            no                  53   \n",
       "1                             0.00            no                  44   \n",
       "2                             0.00            no                   0   \n",
       "3                             0.00            no                  82   \n",
       "4                             0.00            no                   0   \n",
       "..                             ...           ...                 ...   \n",
       "571                           0.44            no                   0   \n",
       "572                           0.33            no                  21   \n",
       "573                           0.00            no                   0   \n",
       "574                           0.00            no                  11   \n",
       "575                           0.00            no                   0   \n",
       "\n",
       "    has_external_url is_private  num_posts  num_followers  num_follows is_fake  \n",
       "0                 no         no         32         1000.0          955      no  \n",
       "1                 no         no        286         2740.0          533      no  \n",
       "2                 no        yes         13          159.0           98      no  \n",
       "3                 no         no        679          414.0          651      no  \n",
       "4                 no        yes          6          151.0          126      no  \n",
       "..               ...        ...        ...            ...          ...     ...  \n",
       "571               no         no         33            NaN          596     yes  \n",
       "572               no         no         44           66.0           75     yes  \n",
       "573               no         no          4           96.0          339     yes  \n",
       "574               no         no          0           57.0           73     yes  \n",
       "575               no         no          2          150.0          487     yes  \n",
       "\n",
       "[576 rows x 13 columns]"
      ]
     },
     "execution_count": 23,
     "metadata": {},
     "output_type": "execute_result"
    }
   ],
   "source": [
    "read_csv(\"../data/fake_profiles.csv\")"
   ]
  },
  {
   "cell_type": "code",
   "execution_count": 24,
   "id": "d58a8f0b",
   "metadata": {},
   "outputs": [
    {
     "data": {
      "text/html": [
       "<div>\n",
       "<style scoped>\n",
       "    .dataframe tbody tr th:only-of-type {\n",
       "        vertical-align: middle;\n",
       "    }\n",
       "\n",
       "    .dataframe tbody tr th {\n",
       "        vertical-align: top;\n",
       "    }\n",
       "\n",
       "    .dataframe thead th {\n",
       "        text-align: right;\n",
       "    }\n",
       "</style>\n",
       "<table border=\"1\" class=\"dataframe\">\n",
       "  <thead>\n",
       "    <tr style=\"text-align: right;\">\n",
       "      <th></th>\n",
       "      <th>profile_pic</th>\n",
       "      <th>rel_num_numeric_char_username</th>\n",
       "      <th>words_fullname</th>\n",
       "      <th>rel_num_numeric_char_fullname</th>\n",
       "      <th>name=username</th>\n",
       "      <th>description_length</th>\n",
       "      <th>has_external_url</th>\n",
       "      <th>is_private</th>\n",
       "      <th>num_posts</th>\n",
       "      <th>num_followers</th>\n",
       "      <th>num_follows</th>\n",
       "      <th>is_fake</th>\n",
       "    </tr>\n",
       "  </thead>\n",
       "  <tbody>\n",
       "    <tr>\n",
       "      <th>0</th>\n",
       "      <td>yes</td>\n",
       "      <td>0.27</td>\n",
       "      <td>0</td>\n",
       "      <td>0.0</td>\n",
       "      <td>no</td>\n",
       "      <td>53</td>\n",
       "      <td>no</td>\n",
       "      <td>no</td>\n",
       "      <td>32</td>\n",
       "      <td>1000.0</td>\n",
       "      <td>955</td>\n",
       "      <td>no</td>\n",
       "    </tr>\n",
       "    <tr>\n",
       "      <th>1</th>\n",
       "      <td>yes</td>\n",
       "      <td>0.00</td>\n",
       "      <td>2</td>\n",
       "      <td>0.0</td>\n",
       "      <td>no</td>\n",
       "      <td>44</td>\n",
       "      <td>no</td>\n",
       "      <td>no</td>\n",
       "      <td>286</td>\n",
       "      <td>2740.0</td>\n",
       "      <td>533</td>\n",
       "      <td>no</td>\n",
       "    </tr>\n",
       "    <tr>\n",
       "      <th>2</th>\n",
       "      <td>yes</td>\n",
       "      <td>0.10</td>\n",
       "      <td>2</td>\n",
       "      <td>0.0</td>\n",
       "      <td>no</td>\n",
       "      <td>0</td>\n",
       "      <td>no</td>\n",
       "      <td>yes</td>\n",
       "      <td>13</td>\n",
       "      <td>159.0</td>\n",
       "      <td>98</td>\n",
       "      <td>no</td>\n",
       "    </tr>\n",
       "    <tr>\n",
       "      <th>3</th>\n",
       "      <td>yes</td>\n",
       "      <td>0.00</td>\n",
       "      <td>1</td>\n",
       "      <td>0.0</td>\n",
       "      <td>no</td>\n",
       "      <td>82</td>\n",
       "      <td>no</td>\n",
       "      <td>no</td>\n",
       "      <td>679</td>\n",
       "      <td>414.0</td>\n",
       "      <td>651</td>\n",
       "      <td>no</td>\n",
       "    </tr>\n",
       "    <tr>\n",
       "      <th>4</th>\n",
       "      <td>yes</td>\n",
       "      <td>0.00</td>\n",
       "      <td>2</td>\n",
       "      <td>0.0</td>\n",
       "      <td>no</td>\n",
       "      <td>0</td>\n",
       "      <td>no</td>\n",
       "      <td>yes</td>\n",
       "      <td>6</td>\n",
       "      <td>151.0</td>\n",
       "      <td>126</td>\n",
       "      <td>no</td>\n",
       "    </tr>\n",
       "  </tbody>\n",
       "</table>\n",
       "</div>"
      ],
      "text/plain": [
       "  profile_pic  rel_num_numeric_char_username  words_fullname  \\\n",
       "0         yes                           0.27               0   \n",
       "1         yes                           0.00               2   \n",
       "2         yes                           0.10               2   \n",
       "3         yes                           0.00               1   \n",
       "4         yes                           0.00               2   \n",
       "\n",
       "   rel_num_numeric_char_fullname name=username  description_length  \\\n",
       "0                            0.0            no                  53   \n",
       "1                            0.0            no                  44   \n",
       "2                            0.0            no                   0   \n",
       "3                            0.0            no                  82   \n",
       "4                            0.0            no                   0   \n",
       "\n",
       "  has_external_url is_private  num_posts  num_followers  num_follows is_fake  \n",
       "0               no         no         32         1000.0          955      no  \n",
       "1               no         no        286         2740.0          533      no  \n",
       "2               no        yes         13          159.0           98      no  \n",
       "3               no         no        679          414.0          651      no  \n",
       "4               no        yes          6          151.0          126      no  "
      ]
     },
     "execution_count": 24,
     "metadata": {},
     "output_type": "execute_result"
    }
   ],
   "source": [
    "data = read_csv(\n",
    "    \"../data/fake_profiles.csv\",\n",
    "    sep=\",\",\n",
    "    decimal=\".\",\n",
    "    skiprows=None, # [0, 1, 10]\n",
    "    usecols=range(1, 13)\n",
    "    )\n",
    "data.head(5)"
   ]
  },
  {
   "cell_type": "code",
   "execution_count": 25,
   "id": "9c8ef04e",
   "metadata": {},
   "outputs": [
    {
     "name": "stdout",
     "output_type": "stream",
     "text": [
      "<class 'pandas.core.frame.DataFrame'>\n",
      "RangeIndex: 576 entries, 0 to 575\n",
      "Data columns (total 12 columns):\n",
      " #   Column                         Non-Null Count  Dtype  \n",
      "---  ------                         --------------  -----  \n",
      " 0   profile_pic                    576 non-null    object \n",
      " 1   rel_num_numeric_char_username  576 non-null    float64\n",
      " 2   words_fullname                 576 non-null    int64  \n",
      " 3   rel_num_numeric_char_fullname  576 non-null    float64\n",
      " 4   name=username                  576 non-null    object \n",
      " 5   description_length             576 non-null    int64  \n",
      " 6   has_external_url               576 non-null    object \n",
      " 7   is_private                     576 non-null    object \n",
      " 8   num_posts                      576 non-null    int64  \n",
      " 9   num_followers                  556 non-null    float64\n",
      " 10  num_follows                    576 non-null    int64  \n",
      " 11  is_fake                        576 non-null    object \n",
      "dtypes: float64(3), int64(4), object(5)\n",
      "memory usage: 54.1+ KB\n"
     ]
    }
   ],
   "source": [
    "data.info()"
   ]
  },
  {
   "cell_type": "code",
   "execution_count": 26,
   "id": "ce256c32",
   "metadata": {},
   "outputs": [
    {
     "data": {
      "text/html": [
       "<div>\n",
       "<style scoped>\n",
       "    .dataframe tbody tr th:only-of-type {\n",
       "        vertical-align: middle;\n",
       "    }\n",
       "\n",
       "    .dataframe tbody tr th {\n",
       "        vertical-align: top;\n",
       "    }\n",
       "\n",
       "    .dataframe thead th {\n",
       "        text-align: right;\n",
       "    }\n",
       "</style>\n",
       "<table border=\"1\" class=\"dataframe\">\n",
       "  <thead>\n",
       "    <tr style=\"text-align: right;\">\n",
       "      <th></th>\n",
       "      <th>rel_num_numeric_char_username</th>\n",
       "      <th>words_fullname</th>\n",
       "      <th>rel_num_numeric_char_fullname</th>\n",
       "      <th>description_length</th>\n",
       "      <th>num_posts</th>\n",
       "      <th>num_followers</th>\n",
       "      <th>num_follows</th>\n",
       "    </tr>\n",
       "  </thead>\n",
       "  <tbody>\n",
       "    <tr>\n",
       "      <th>count</th>\n",
       "      <td>576.000000</td>\n",
       "      <td>576.000000</td>\n",
       "      <td>576.000000</td>\n",
       "      <td>576.000000</td>\n",
       "      <td>576.000000</td>\n",
       "      <td>5.560000e+02</td>\n",
       "      <td>576.000000</td>\n",
       "    </tr>\n",
       "    <tr>\n",
       "      <th>mean</th>\n",
       "      <td>0.163837</td>\n",
       "      <td>1.460069</td>\n",
       "      <td>0.036094</td>\n",
       "      <td>22.623264</td>\n",
       "      <td>107.489583</td>\n",
       "      <td>8.835909e+04</td>\n",
       "      <td>508.381944</td>\n",
       "    </tr>\n",
       "    <tr>\n",
       "      <th>std</th>\n",
       "      <td>0.214096</td>\n",
       "      <td>1.052601</td>\n",
       "      <td>0.125121</td>\n",
       "      <td>37.702987</td>\n",
       "      <td>402.034431</td>\n",
       "      <td>9.262573e+05</td>\n",
       "      <td>917.981239</td>\n",
       "    </tr>\n",
       "    <tr>\n",
       "      <th>min</th>\n",
       "      <td>0.000000</td>\n",
       "      <td>0.000000</td>\n",
       "      <td>0.000000</td>\n",
       "      <td>0.000000</td>\n",
       "      <td>0.000000</td>\n",
       "      <td>0.000000e+00</td>\n",
       "      <td>0.000000</td>\n",
       "    </tr>\n",
       "    <tr>\n",
       "      <th>25%</th>\n",
       "      <td>0.000000</td>\n",
       "      <td>1.000000</td>\n",
       "      <td>0.000000</td>\n",
       "      <td>0.000000</td>\n",
       "      <td>0.000000</td>\n",
       "      <td>3.800000e+01</td>\n",
       "      <td>57.500000</td>\n",
       "    </tr>\n",
       "    <tr>\n",
       "      <th>50%</th>\n",
       "      <td>0.000000</td>\n",
       "      <td>1.000000</td>\n",
       "      <td>0.000000</td>\n",
       "      <td>0.000000</td>\n",
       "      <td>9.000000</td>\n",
       "      <td>1.415000e+02</td>\n",
       "      <td>229.500000</td>\n",
       "    </tr>\n",
       "    <tr>\n",
       "      <th>75%</th>\n",
       "      <td>0.310000</td>\n",
       "      <td>2.000000</td>\n",
       "      <td>0.000000</td>\n",
       "      <td>34.000000</td>\n",
       "      <td>81.500000</td>\n",
       "      <td>7.285000e+02</td>\n",
       "      <td>589.500000</td>\n",
       "    </tr>\n",
       "    <tr>\n",
       "      <th>max</th>\n",
       "      <td>0.920000</td>\n",
       "      <td>12.000000</td>\n",
       "      <td>1.000000</td>\n",
       "      <td>150.000000</td>\n",
       "      <td>7389.000000</td>\n",
       "      <td>1.533854e+07</td>\n",
       "      <td>7500.000000</td>\n",
       "    </tr>\n",
       "  </tbody>\n",
       "</table>\n",
       "</div>"
      ],
      "text/plain": [
       "       rel_num_numeric_char_username  words_fullname  \\\n",
       "count                     576.000000      576.000000   \n",
       "mean                        0.163837        1.460069   \n",
       "std                         0.214096        1.052601   \n",
       "min                         0.000000        0.000000   \n",
       "25%                         0.000000        1.000000   \n",
       "50%                         0.000000        1.000000   \n",
       "75%                         0.310000        2.000000   \n",
       "max                         0.920000       12.000000   \n",
       "\n",
       "       rel_num_numeric_char_fullname  description_length    num_posts  \\\n",
       "count                     576.000000          576.000000   576.000000   \n",
       "mean                        0.036094           22.623264   107.489583   \n",
       "std                         0.125121           37.702987   402.034431   \n",
       "min                         0.000000            0.000000     0.000000   \n",
       "25%                         0.000000            0.000000     0.000000   \n",
       "50%                         0.000000            0.000000     9.000000   \n",
       "75%                         0.000000           34.000000    81.500000   \n",
       "max                         1.000000          150.000000  7389.000000   \n",
       "\n",
       "       num_followers  num_follows  \n",
       "count   5.560000e+02   576.000000  \n",
       "mean    8.835909e+04   508.381944  \n",
       "std     9.262573e+05   917.981239  \n",
       "min     0.000000e+00     0.000000  \n",
       "25%     3.800000e+01    57.500000  \n",
       "50%     1.415000e+02   229.500000  \n",
       "75%     7.285000e+02   589.500000  \n",
       "max     1.533854e+07  7500.000000  "
      ]
     },
     "execution_count": 26,
     "metadata": {},
     "output_type": "execute_result"
    }
   ],
   "source": [
    "data.describe()"
   ]
  },
  {
   "cell_type": "code",
   "execution_count": 27,
   "id": "78a1cf4d",
   "metadata": {},
   "outputs": [
    {
     "data": {
      "text/plain": [
       "np.float64(22.62326388888889)"
      ]
     },
     "execution_count": 27,
     "metadata": {},
     "output_type": "execute_result"
    }
   ],
   "source": [
    "data[\"description_length\"].mean()"
   ]
  },
  {
   "cell_type": "code",
   "execution_count": 28,
   "id": "0d8f6697",
   "metadata": {},
   "outputs": [
    {
     "data": {
      "text/plain": [
       "np.float64(37.70298680969428)"
      ]
     },
     "execution_count": 28,
     "metadata": {},
     "output_type": "execute_result"
    }
   ],
   "source": [
    "data[\"description_length\"].std()"
   ]
  },
  {
   "cell_type": "code",
   "execution_count": 29,
   "id": "f2c944c4",
   "metadata": {},
   "outputs": [
    {
     "data": {
      "text/plain": [
       "np.float64(0.0)"
      ]
     },
     "execution_count": 29,
     "metadata": {},
     "output_type": "execute_result"
    }
   ],
   "source": [
    "data[\"description_length\"].median()"
   ]
  },
  {
   "cell_type": "code",
   "execution_count": 30,
   "id": "c2fc337b",
   "metadata": {},
   "outputs": [
    {
     "data": {
      "text/plain": [
       "0    yes\n",
       "Name: profile_pic, dtype: object"
      ]
     },
     "execution_count": 30,
     "metadata": {},
     "output_type": "execute_result"
    }
   ],
   "source": [
    "data[\"profile_pic\"].mode()"
   ]
  },
  {
   "cell_type": "code",
   "execution_count": 31,
   "id": "9dd1c68a",
   "metadata": {},
   "outputs": [
    {
     "data": {
      "text/plain": [
       "profile_pic\n",
       "yes    404\n",
       "no     172\n",
       "Name: count, dtype: int64"
      ]
     },
     "execution_count": 31,
     "metadata": {},
     "output_type": "execute_result"
    }
   ],
   "source": [
    "data[\"profile_pic\"].value_counts()"
   ]
  },
  {
   "cell_type": "markdown",
   "id": "ecf9a6ae",
   "metadata": {},
   "source": [
    "## Praktische Plots"
   ]
  },
  {
   "cell_type": "code",
   "execution_count": 32,
   "id": "07c95961",
   "metadata": {},
   "outputs": [
    {
     "data": {
      "text/html": [
       "<div>\n",
       "<style scoped>\n",
       "    .dataframe tbody tr th:only-of-type {\n",
       "        vertical-align: middle;\n",
       "    }\n",
       "\n",
       "    .dataframe tbody tr th {\n",
       "        vertical-align: top;\n",
       "    }\n",
       "\n",
       "    .dataframe thead th {\n",
       "        text-align: right;\n",
       "    }\n",
       "</style>\n",
       "<table border=\"1\" class=\"dataframe\">\n",
       "  <thead>\n",
       "    <tr style=\"text-align: right;\">\n",
       "      <th></th>\n",
       "      <th>rel_num_numeric_char_username</th>\n",
       "      <th>words_fullname</th>\n",
       "      <th>rel_num_numeric_char_fullname</th>\n",
       "      <th>description_length</th>\n",
       "      <th>num_posts</th>\n",
       "      <th>num_followers</th>\n",
       "      <th>num_follows</th>\n",
       "    </tr>\n",
       "  </thead>\n",
       "  <tbody>\n",
       "    <tr>\n",
       "      <th>rel_num_numeric_char_username</th>\n",
       "      <td>1.000000</td>\n",
       "      <td>-0.225472</td>\n",
       "      <td>0.408567</td>\n",
       "      <td>-0.321170</td>\n",
       "      <td>-0.157442</td>\n",
       "      <td>-0.063386</td>\n",
       "      <td>-0.172413</td>\n",
       "    </tr>\n",
       "    <tr>\n",
       "      <th>words_fullname</th>\n",
       "      <td>-0.225472</td>\n",
       "      <td>1.000000</td>\n",
       "      <td>-0.094348</td>\n",
       "      <td>0.272522</td>\n",
       "      <td>0.073350</td>\n",
       "      <td>0.033532</td>\n",
       "      <td>0.094855</td>\n",
       "    </tr>\n",
       "    <tr>\n",
       "      <th>rel_num_numeric_char_fullname</th>\n",
       "      <td>0.408567</td>\n",
       "      <td>-0.094348</td>\n",
       "      <td>1.000000</td>\n",
       "      <td>-0.117521</td>\n",
       "      <td>-0.057716</td>\n",
       "      <td>-0.027388</td>\n",
       "      <td>-0.067971</td>\n",
       "    </tr>\n",
       "    <tr>\n",
       "      <th>description_length</th>\n",
       "      <td>-0.321170</td>\n",
       "      <td>0.272522</td>\n",
       "      <td>-0.117521</td>\n",
       "      <td>1.000000</td>\n",
       "      <td>0.144824</td>\n",
       "      <td>0.006369</td>\n",
       "      <td>0.226561</td>\n",
       "    </tr>\n",
       "    <tr>\n",
       "      <th>num_posts</th>\n",
       "      <td>-0.157442</td>\n",
       "      <td>0.073350</td>\n",
       "      <td>-0.057716</td>\n",
       "      <td>0.144824</td>\n",
       "      <td>1.000000</td>\n",
       "      <td>0.325895</td>\n",
       "      <td>0.098225</td>\n",
       "    </tr>\n",
       "    <tr>\n",
       "      <th>num_followers</th>\n",
       "      <td>-0.063386</td>\n",
       "      <td>0.033532</td>\n",
       "      <td>-0.027388</td>\n",
       "      <td>0.006369</td>\n",
       "      <td>0.325895</td>\n",
       "      <td>1.000000</td>\n",
       "      <td>-0.011009</td>\n",
       "    </tr>\n",
       "    <tr>\n",
       "      <th>num_follows</th>\n",
       "      <td>-0.172413</td>\n",
       "      <td>0.094855</td>\n",
       "      <td>-0.067971</td>\n",
       "      <td>0.226561</td>\n",
       "      <td>0.098225</td>\n",
       "      <td>-0.011009</td>\n",
       "      <td>1.000000</td>\n",
       "    </tr>\n",
       "  </tbody>\n",
       "</table>\n",
       "</div>"
      ],
      "text/plain": [
       "                               rel_num_numeric_char_username  words_fullname  \\\n",
       "rel_num_numeric_char_username                       1.000000       -0.225472   \n",
       "words_fullname                                     -0.225472        1.000000   \n",
       "rel_num_numeric_char_fullname                       0.408567       -0.094348   \n",
       "description_length                                 -0.321170        0.272522   \n",
       "num_posts                                          -0.157442        0.073350   \n",
       "num_followers                                      -0.063386        0.033532   \n",
       "num_follows                                        -0.172413        0.094855   \n",
       "\n",
       "                               rel_num_numeric_char_fullname  \\\n",
       "rel_num_numeric_char_username                       0.408567   \n",
       "words_fullname                                     -0.094348   \n",
       "rel_num_numeric_char_fullname                       1.000000   \n",
       "description_length                                 -0.117521   \n",
       "num_posts                                          -0.057716   \n",
       "num_followers                                      -0.027388   \n",
       "num_follows                                        -0.067971   \n",
       "\n",
       "                               description_length  num_posts  num_followers  \\\n",
       "rel_num_numeric_char_username           -0.321170  -0.157442      -0.063386   \n",
       "words_fullname                           0.272522   0.073350       0.033532   \n",
       "rel_num_numeric_char_fullname           -0.117521  -0.057716      -0.027388   \n",
       "description_length                       1.000000   0.144824       0.006369   \n",
       "num_posts                                0.144824   1.000000       0.325895   \n",
       "num_followers                            0.006369   0.325895       1.000000   \n",
       "num_follows                              0.226561   0.098225      -0.011009   \n",
       "\n",
       "                               num_follows  \n",
       "rel_num_numeric_char_username    -0.172413  \n",
       "words_fullname                    0.094855  \n",
       "rel_num_numeric_char_fullname    -0.067971  \n",
       "description_length                0.226561  \n",
       "num_posts                         0.098225  \n",
       "num_followers                    -0.011009  \n",
       "num_follows                       1.000000  "
      ]
     },
     "execution_count": 32,
     "metadata": {},
     "output_type": "execute_result"
    }
   ],
   "source": [
    "data.select_dtypes(include=\"number\").corr()"
   ]
  },
  {
   "cell_type": "code",
   "execution_count": 33,
   "id": "065ff66d",
   "metadata": {},
   "outputs": [],
   "source": [
    "from seaborn import heatmap, clustermap"
   ]
  },
  {
   "cell_type": "code",
   "execution_count": 34,
   "id": "853cc9d8",
   "metadata": {},
   "outputs": [
    {
     "data": {
      "text/plain": [
       "<Axes: >"
      ]
     },
     "execution_count": 34,
     "metadata": {},
     "output_type": "execute_result"
    },
    {
     "data": {
      "image/png": "[encoded data removed]",
      "text/plain": [
       "<Figure size 640x480 with 2 Axes>"
      ]
     },
     "metadata": {},
     "output_type": "display_data"
    }
   ],
   "source": [
    "heatmap(\n",
    "data.select_dtypes(include=\"number\").corr()\n",
    ")"
   ]
  },
  {
   "cell_type": "code",
   "execution_count": 35,
   "id": "e42a7245",
   "metadata": {},
   "outputs": [
    {
     "data": {
      "text/plain": [
       "<seaborn.matrix.ClusterGrid at 0x7f554de34a70>"
      ]
     },
     "execution_count": 35,
     "metadata": {},
     "output_type": "execute_result"
    },
    {
     "data": {
      "image/png": "[encoded data removed]",
      "text/plain": [
       "<Figure size 1000x1000 with 4 Axes>"
      ]
     },
     "metadata": {},
     "output_type": "display_data"
    }
   ],
   "source": [
    "clustermap(\n",
    "    data.select_dtypes(include=\"number\").corr()\n",
    ")"
   ]
  }
 ],
 "metadata": {
  "kernelspec": {
   "display_name": ".venv",
   "language": "python",
   "name": "python3"
  },
  "language_info": {
   "codemirror_mode": {
    "name": "ipython",
    "version": 3
   },
   "file_extension": ".py",
   "mimetype": "text/x-python",
   "name": "python",
   "nbconvert_exporter": "python",
   "pygments_lexer": "ipython3",
   "version": "3.12.1"
  }
 },
 "nbformat": 4,
 "nbformat_minor": 5
}
