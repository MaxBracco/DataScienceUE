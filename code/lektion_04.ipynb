{
 "cells": [
  {
   "cell_type": "markdown",
   "id": "5aaf5686",
   "metadata": {},
   "source": [
    "# Megatutorial 04: Regression"
   ]
  },
  {
   "cell_type": "code",
   "execution_count": 71,
   "id": "a5a173cf",
   "metadata": {},
   "outputs": [],
   "source": [
    "from pandas import read_csv\n",
    "\n",
    "from sklearn.impute import SimpleImputer\n",
    "from sklearn.preprocessing import LabelEncoder\n",
    "from sklearn.model_selection import train_test_split\n",
    "\n",
    "from sklearn.linear_model import LinearRegression\n",
    "from sklearn.tree import DecisionTreeRegressor\n",
    "\n",
    "from sklearn.metrics import r2_score, mean_squared_error\n",
    "from sklearn.metrics import root_mean_squared_error, mean_absolute_error"
   ]
  },
  {
   "cell_type": "markdown",
   "id": "507f8c21",
   "metadata": {},
   "source": [
    "---\n",
    "# Daten Laden"
   ]
  },
  {
   "cell_type": "code",
   "execution_count": 72,
   "id": "04c16ba1",
   "metadata": {},
   "outputs": [],
   "source": [
    "data = read_csv(\"../data/bikesharing.csv\",index_col=0)"
   ]
  },
  {
   "cell_type": "markdown",
   "id": "e20bee3a",
   "metadata": {},
   "source": [
    "---\n",
    "# Data Preprocessing\n",
    "---"
   ]
  },
  {
   "cell_type": "markdown",
   "id": "c7d8626f",
   "metadata": {},
   "source": [
    "## Imputing"
   ]
  },
  {
   "cell_type": "code",
   "execution_count": 73,
   "id": "2fd22ff3",
   "metadata": {},
   "outputs": [],
   "source": [
    "imputer = SimpleImputer(strategy=\"median\")\n",
    "imputer.fit(data[[\"hum\"]])                         #  Eckige Klammer zum slicen - innere Klammer - Listenelement - deshalb DataFrame und nicht Series\n",
    "data[\"hum\"] = imputer.transform(data[[\"hum\"]])     # Daten einfügen"
   ]
  },
  {
   "cell_type": "markdown",
   "id": "f714f1fd",
   "metadata": {},
   "source": [
    "## Encoding"
   ]
  },
  {
   "cell_type": "code",
   "execution_count": 74,
   "id": "2c34f9e8",
   "metadata": {},
   "outputs": [],
   "source": [
    "season_encoder = LabelEncoder()\n",
    "data[\"season\"] = season_encoder.fit_transform(data[\"season\"])\n",
    "\n",
    "# holiday\n",
    "holiday_encoder = LabelEncoder()\n",
    "data[\"holiday\"] = holiday_encoder.fit_transform(data[\"holiday\"])\n",
    "\n",
    "# weekday\n",
    "weekday_encoder = LabelEncoder()\n",
    "data[\"weekday\"] = weekday_encoder.fit_transform(data[\"weekday\"])\n",
    "\n",
    "# workingday\n",
    "workingday_encoder = LabelEncoder()\n",
    "data[\"workingday\"] = workingday_encoder.fit_transform(data[\"workingday\"])\n",
    "\n",
    "# weathersit\n",
    "weathersit_encoder = LabelEncoder()\n",
    "data[\"weathersit\"] = weathersit_encoder.fit_transform(data[\"weathersit\"])"
   ]
  },
  {
   "cell_type": "markdown",
   "id": "573ab99c",
   "metadata": {},
   "source": [
    "## Feature/Target Split"
   ]
  },
  {
   "cell_type": "code",
   "execution_count": 75,
   "id": "240d927e",
   "metadata": {},
   "outputs": [
    {
     "data": {
      "text/plain": [
       "Index(['season', 'holiday', 'weekday', 'workingday', 'weathersit', 'temp',\n",
       "       'atemp', 'hum', 'windspeed', 'casual', 'registered', 'cnt', 'day',\n",
       "       'month', 'year'],\n",
       "      dtype='object')"
      ]
     },
     "execution_count": 75,
     "metadata": {},
     "output_type": "execute_result"
    }
   ],
   "source": [
    "data.columns"
   ]
  },
  {
   "cell_type": "code",
   "execution_count": 76,
   "id": "e31a155f",
   "metadata": {},
   "outputs": [],
   "source": [
    "# data.columns verwenden um Attribute herauszuschreiben\n",
    "\n",
    "features = [\n",
    "    'season', 'holiday', 'weekday', 'weathersit', 'temp',\n",
    "    'atemp', 'hum', 'windspeed', 'month'\n",
    "]\n",
    "\n",
    "target = ['cnt']\n",
    "\n",
    "X = data[features]\n",
    "y = data[target]"
   ]
  },
  {
   "cell_type": "markdown",
   "id": "7f14990b",
   "metadata": {},
   "source": [
    "## Train/Test Split"
   ]
  },
  {
   "cell_type": "code",
   "execution_count": 80,
   "id": "6b26fa10",
   "metadata": {},
   "outputs": [],
   "source": [
    "X_train, X_test, y_train, y_test = train_test_split(X, y, test_size=0.4, random_state=875)"
   ]
  },
  {
   "cell_type": "markdown",
   "id": "6e767f9a",
   "metadata": {},
   "source": [
    "## Modelling"
   ]
  },
  {
   "cell_type": "code",
   "execution_count": 83,
   "id": "499fe588",
   "metadata": {},
   "outputs": [
    {
     "name": "stdout",
     "output_type": "stream",
     "text": [
      "R² =  0.5405958921616075 , RMSE =  1373.1227620068084 , MAE =  1163.1284232192186\n"
     ]
    }
   ],
   "source": [
    "linear_model = LinearRegression()\n",
    "linear_model.fit(X_train, y_train)\n",
    "\n",
    "predicitions = linear_model.predict(X_test)\n",
    "\n",
    "print(\n",
    "    \"R² = \", r2_score(y_test, predicitions),\n",
    "    \", RMSE = \", root_mean_squared_error(y_test, predicitions),\n",
    "    \", MAE = \", mean_absolute_error(y_test, predicitions)\n",
    ")"
   ]
  },
  {
   "cell_type": "markdown",
   "id": "3da7968c",
   "metadata": {},
   "source": [
    "## Decision Tree Regressor"
   ]
  },
  {
   "cell_type": "code",
   "execution_count": 88,
   "id": "9a3469ae",
   "metadata": {},
   "outputs": [
    {
     "name": "stdout",
     "output_type": "stream",
     "text": [
      "R² =  0.5559437170404367 , RMSE =  1349.9912044826604 , MAE =  1122.168289469677\n"
     ]
    }
   ],
   "source": [
    "tree_model = DecisionTreeRegressor(max_depth=5)\n",
    "tree_model.fit(X_train, y_train)\n",
    "\n",
    "predicitions = tree_model.predict(X_test)\n",
    "\n",
    "print(\n",
    "    \"R² = \", r2_score(y_test, predicitions),\n",
    "    \", RMSE = \", root_mean_squared_error(y_test, predicitions),\n",
    "    \", MAE = \", mean_absolute_error(y_test, predicitions)\n",
    ")"
   ]
  },
  {
   "cell_type": "code",
   "execution_count": null,
   "id": "9b49c44d",
   "metadata": {},
   "outputs": [],
   "source": []
  }
 ],
 "metadata": {
  "kernelspec": {
   "display_name": ".venv",
   "language": "python",
   "name": "python3"
  },
  "language_info": {
   "codemirror_mode": {
    "name": "ipython",
    "version": 3
   },
   "file_extension": ".py",
   "mimetype": "text/x-python",
   "name": "python",
   "nbconvert_exporter": "python",
   "pygments_lexer": "ipython3",
   "version": "3.12.1"
  }
 },
 "nbformat": 4,
 "nbformat_minor": 5
}
